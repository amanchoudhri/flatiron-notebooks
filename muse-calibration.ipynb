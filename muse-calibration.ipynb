{
 "cells": [
  {
   "cell_type": "markdown",
   "id": "00431a03-0ee3-447d-bfb0-220b12f9449f",
   "metadata": {},
   "source": [
    "### Examine the calibration of different models on MUSE"
   ]
  },
  {
   "cell_type": "code",
   "execution_count": 4,
   "id": "e4d12e50-7618-4766-ae40-7aab1c004153",
   "metadata": {},
   "outputs": [],
   "source": [
    "import numpy as np\n",
    "from typing import Tuple"
   ]
  },
  {
   "cell_type": "code",
   "execution_count": 5,
   "id": "ac16e8b7-f605-45ae-87d0-67e2daad5b9c",
   "metadata": {},
   "outputs": [],
   "source": [
    "from common.constants import LARGE_MIC_POS, LARGE_ROOM_DIMS"
   ]
  },
  {
   "cell_type": "code",
   "execution_count": 6,
   "id": "249dfe20-dc9d-4ac0-b351-d801c4ac879e",
   "metadata": {},
   "outputs": [
    {
     "data": {
      "text/plain": [
       "array([1.83, 2.44, 0.76])"
      ]
     },
     "execution_count": 6,
     "metadata": {},
     "output_type": "execute_result"
    }
   ],
   "source": [
    "LARGE_ROOM_DIMS"
   ]
  },
  {
   "cell_type": "code",
   "execution_count": 9,
   "id": "1bcff12d-75da-4538-b4fe-3620f3fde69b",
   "metadata": {},
   "outputs": [],
   "source": [
    "xs = np.linspace(0, LARGE_ROOM_DIMS[0], int(LARGE_ROOM_DIMS[0] / 0.001))\n",
    "ys = np.linspace(0, LARGE_ROOM_DIMS[1], int(LARGE_ROOM_DIMS[1] / 0.001))"
   ]
  },
  {
   "cell_type": "code",
   "execution_count": 10,
   "id": "c1d3f584-71f4-47c3-87c9-7a10df0f078e",
   "metadata": {},
   "outputs": [],
   "source": [
    "xgrid, ygrid = np.meshgrid(xs, ys)"
   ]
  },
  {
   "cell_type": "code",
   "execution_count": 12,
   "id": "6fa2e128-ee35-42aa-bbea-01ae2eca992b",
   "metadata": {},
   "outputs": [
    {
     "data": {
      "text/plain": [
       "(2440, 1830)"
      ]
     },
     "execution_count": 12,
     "metadata": {},
     "output_type": "execute_result"
    }
   ],
   "source": [
    "xgrid.shape"
   ]
  },
  {
   "cell_type": "code",
   "execution_count": 13,
   "id": "dbe70aba-e8a3-4a0e-89fc-7093750a7d44",
   "metadata": {},
   "outputs": [
    {
     "data": {
      "text/plain": [
       "(244, 183)"
      ]
     },
     "execution_count": 13,
     "metadata": {},
     "output_type": "execute_result"
    }
   ],
   "source": [
    "xgrid[::10, ::10].shape"
   ]
  },
  {
   "cell_type": "code",
   "execution_count": 14,
   "id": "854886ed-8ad2-4783-9183-288c34127e5d",
   "metadata": {},
   "outputs": [],
   "source": [
    "import scipy.stats"
   ]
  },
  {
   "cell_type": "code",
   "execution_count": 17,
   "id": "4fdfd751-50ad-497a-91f7-745854980bbc",
   "metadata": {},
   "outputs": [
    {
     "data": {
      "text/plain": [
       "array([0.39894228, 0.24197072, 0.05399097])"
      ]
     },
     "execution_count": 17,
     "metadata": {},
     "output_type": "execute_result"
    }
   ],
   "source": [
    "scipy.stats.norm([0, 1, 2], [1, 1, 1]).pdf([0, 0, 0])"
   ]
  },
  {
   "cell_type": "code",
   "execution_count": 20,
   "id": "fbdd3237-9176-4b25-83a6-40da54886a3c",
   "metadata": {},
   "outputs": [],
   "source": [
    "point_ests = np.random.random((4, 4, 2))\n",
    "sigma = 1\n",
    "n_mics = 4\n",
    "\n",
    "distrs = scipy.stats.norm(point_ests, [sigma] * n_mics)"
   ]
  },
  {
   "cell_type": "code",
   "execution_count": null,
   "id": "54ba2db3-cd3f-432c-b23e-1e26445ac40b",
   "metadata": {},
   "outputs": [],
   "source": []
  },
  {
   "cell_type": "code",
   "execution_count": null,
   "id": "a28c1ec1-46ea-4694-b84e-e4921a6437d2",
   "metadata": {},
   "outputs": [],
   "source": []
  }
 ],
 "metadata": {
  "kernelspec": {
   "display_name": "main",
   "language": "python",
   "name": "main"
  },
  "language_info": {
   "codemirror_mode": {
    "name": "ipython",
    "version": 3
   },
   "file_extension": ".py",
   "mimetype": "text/x-python",
   "name": "python",
   "nbconvert_exporter": "python",
   "pygments_lexer": "ipython3",
   "version": "3.8.12"
  }
 },
 "nbformat": 4,
 "nbformat_minor": 5
}
